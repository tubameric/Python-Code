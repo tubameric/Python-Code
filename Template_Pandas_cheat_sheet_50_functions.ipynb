{
  "cells": [
    {
      "cell_type": "markdown",
      "metadata": {
        "id": "view-in-github",
        "colab_type": "text"
      },
      "source": [
        "<a href=\"https://colab.research.google.com/github/tubameric/Python-Code/blob/main/Template_Pandas_cheat_sheet_50_functions.ipynb\" target=\"_parent\"><img src=\"https://colab.research.google.com/assets/colab-badge.svg\" alt=\"Open In Colab\"/></a>"
      ]
    },
    {
      "cell_type": "markdown",
      "source": [
        "# Python Pandas cheat sheet"
      ],
      "metadata": {
        "datalore": {
          "type": "MD",
          "hide_input_from_viewers": false,
          "hide_output_from_viewers": false,
          "node_id": "Yf1oCNx8SIcYTtfxDrVidi"
        },
        "id": "QyjK710fqMTG"
      }
    },
    {
      "cell_type": "code",
      "source": [
        "import pandas as pd"
      ],
      "execution_count": null,
      "outputs": [],
      "metadata": {
        "datalore": {
          "type": "CODE",
          "hide_input_from_viewers": false,
          "hide_output_from_viewers": false,
          "node_id": "ZyfeorPjsSJNIlp66JDIuQ"
        },
        "id": "u1ep5nHDqMTJ"
      }
    },
    {
      "cell_type": "code",
      "source": [
        "# 1. Loading the csv data from the dataserver URL\n",
        "url = 'https://raw.githubusercontent.com/nvamsimohan/DallasDSA/main/Airlines.csv'\n",
        "df = pd.read_csv(url)"
      ],
      "execution_count": null,
      "outputs": [],
      "metadata": {
        "datalore": {
          "type": "CODE",
          "hide_input_from_viewers": false,
          "hide_output_from_viewers": false,
          "node_id": "26sbR8vQGFPHdCBh5lsBto"
        },
        "id": "2GhlU30QqMTK"
      }
    },
    {
      "cell_type": "code",
      "source": [
        "# 2. Shape of a dataframe\n",
        "df.shape"
      ],
      "execution_count": null,
      "outputs": [],
      "metadata": {
        "datalore": {
          "type": "CODE",
          "hide_input_from_viewers": false,
          "hide_output_from_viewers": false,
          "node_id": "0wAQYIzqIUvamnkJ4kRXvv"
        },
        "id": "0H6On19CqMTK"
      }
    },
    {
      "cell_type": "code",
      "source": [
        "# 3. Head and Tail of the data frame\n",
        "df.head(n=10)\n",
        "df.tail(n=10)"
      ],
      "execution_count": null,
      "outputs": [],
      "metadata": {
        "datalore": {
          "type": "CODE",
          "hide_input_from_viewers": false,
          "hide_output_from_viewers": false,
          "node_id": "Xwfd2ipEep1LthWn2NhEKs"
        },
        "id": "Y71ETSWpqMTL"
      }
    },
    {
      "cell_type": "code",
      "source": [
        "# 4. data types of the columns\n",
        "df.dtypes"
      ],
      "execution_count": null,
      "outputs": [],
      "metadata": {
        "datalore": {
          "type": "CODE",
          "hide_input_from_viewers": false,
          "hide_output_from_viewers": false,
          "node_id": "ozWow08pQOZsQUcwG0UKB0"
        },
        "id": "_RkVVXVNqMTL"
      }
    },
    {
      "cell_type": "code",
      "source": [
        "# 5. Getting column names\n",
        "df.columns.tolist()"
      ],
      "execution_count": null,
      "outputs": [],
      "metadata": {
        "datalore": {
          "type": "CODE",
          "hide_input_from_viewers": false,
          "hide_output_from_viewers": false,
          "node_id": "O6GMHtlW1uKepRyxEGAIOR"
        },
        "id": "aMU6rp5pqMTM"
      }
    },
    {
      "cell_type": "code",
      "source": [
        "# 6. Summary stats\n",
        "df.describe()"
      ],
      "execution_count": null,
      "outputs": [],
      "metadata": {
        "datalore": {
          "type": "CODE",
          "hide_input_from_viewers": false,
          "hide_output_from_viewers": false,
          "node_id": "QG89Uxg1nX4hsMyk3ggPm7"
        },
        "id": "s7rpG1bQqMTM"
      }
    },
    {
      "cell_type": "code",
      "source": [
        "# 7. Checking NA values in columns\n",
        "df.isna().sum()"
      ],
      "execution_count": null,
      "outputs": [],
      "metadata": {
        "datalore": {
          "type": "CODE",
          "hide_input_from_viewers": false,
          "hide_output_from_viewers": false,
          "node_id": "gGxLvq8pHcPXjov91x60yT"
        },
        "id": "0b_92TUvqMTN"
      }
    },
    {
      "cell_type": "code",
      "source": [
        "# 8. Selecting columns with data type as object\n",
        "df.select_dtypes(include = 'object').columns"
      ],
      "execution_count": null,
      "outputs": [],
      "metadata": {
        "datalore": {
          "type": "CODE",
          "hide_input_from_viewers": false,
          "hide_output_from_viewers": false,
          "node_id": "wK0bFqPO1plpoeqo0JEfDx"
        },
        "id": "yIt4y9KEqMTO"
      }
    },
    {
      "cell_type": "code",
      "source": [
        "# 9. Getting value counts from the columns\n",
        "df['Airline'].value_counts(ascending=True)"
      ],
      "execution_count": null,
      "outputs": [],
      "metadata": {
        "datalore": {
          "type": "CODE",
          "hide_input_from_viewers": false,
          "hide_output_from_viewers": false,
          "node_id": "ZYsCdr520Vx18qrT4kQ574"
        },
        "id": "xqGyPAJOqMTO"
      }
    },
    {
      "cell_type": "code",
      "source": [
        "# 10. Getting unique names of values in a column\n",
        "df['Airline'].unique()"
      ],
      "execution_count": null,
      "outputs": [],
      "metadata": {
        "datalore": {
          "type": "CODE",
          "hide_input_from_viewers": false,
          "hide_output_from_viewers": false,
          "node_id": "K6ldQbdhNxHA1J0EOmkRWX"
        },
        "id": "E5RQtp5YqMTO"
      }
    },
    {
      "cell_type": "code",
      "source": [
        "# 11. Select a few columns from df\n",
        "\n",
        "df[['id', 'Airline', 'Flight']]"
      ],
      "execution_count": null,
      "outputs": [],
      "metadata": {
        "datalore": {
          "type": "CODE",
          "hide_input_from_viewers": false,
          "hide_output_from_viewers": false,
          "node_id": "QlO375XekRV0CTKMndgIvH"
        },
        "id": "abyj1nWjqMTP"
      }
    },
    {
      "cell_type": "code",
      "source": [
        "# 12. Select a few rows\n",
        "df.iloc[:10,]"
      ],
      "execution_count": null,
      "outputs": [],
      "metadata": {
        "datalore": {
          "type": "CODE",
          "hide_input_from_viewers": false,
          "hide_output_from_viewers": false,
          "node_id": "ZBiA7Ao0oRYT36fgX3Xivj"
        },
        "id": "uPNblKHLqMTP"
      }
    },
    {
      "cell_type": "code",
      "source": [
        "# 13. Select a few rows and columns\n",
        "df.loc[:5, ['id', 'Airline', 'Flight']]"
      ],
      "execution_count": null,
      "outputs": [],
      "metadata": {
        "datalore": {
          "type": "CODE",
          "hide_input_from_viewers": false,
          "hide_output_from_viewers": false,
          "node_id": "qmxHtXQ2z3GIHPaAgL4r48"
        },
        "id": "_ns6kzwvqMTP"
      }
    },
    {
      "cell_type": "code",
      "source": [
        "# 14. Filter the data using a column\n",
        "df[df['Airline'] == 'US']"
      ],
      "execution_count": null,
      "outputs": [],
      "metadata": {
        "datalore": {
          "type": "CODE",
          "hide_input_from_viewers": false,
          "hide_output_from_viewers": false,
          "node_id": "ZSrNg5xjBJtRa6iFCEGmj0"
        },
        "id": "-G6hgLziqMTQ"
      }
    },
    {
      "cell_type": "code",
      "source": [
        "# 15. Filter the data using multiple columns\n",
        "df[(df['Airline'] == 'US') & (df['AirportFrom'] == 'PHX') & (df['DayOfWeek'] == 1)]"
      ],
      "execution_count": null,
      "outputs": [],
      "metadata": {
        "datalore": {
          "type": "CODE",
          "hide_input_from_viewers": false,
          "hide_output_from_viewers": false,
          "node_id": "LP6lkMnw3POpeNvJMODXce"
        },
        "id": "s0xNbEk7qMTQ"
      }
    },
    {
      "cell_type": "code",
      "source": [
        "# 16. Filter data using OR conditions\n",
        "df[(df['Airline'] == 'US') | (df['AirportFrom'] == 'PHX')]"
      ],
      "execution_count": null,
      "outputs": [],
      "metadata": {
        "datalore": {
          "type": "CODE",
          "hide_input_from_viewers": false,
          "hide_output_from_viewers": false,
          "node_id": "LoAx4ZHXWy7Xcw59M6yMwo"
        },
        "id": "6A9tdcrqqMTQ"
      }
    },
    {
      "cell_type": "code",
      "source": [
        "# 17. Filter data using a list\n",
        "airline_list = ['DL','US']\n",
        "\n",
        "df[df['Airline'].isin(airline_list)]"
      ],
      "execution_count": null,
      "outputs": [],
      "metadata": {
        "datalore": {
          "type": "CODE",
          "hide_input_from_viewers": false,
          "hide_output_from_viewers": false,
          "node_id": "qW5wfFhgIJYtgs8RdqlkFB"
        },
        "id": "70mGRMvFqMTQ"
      }
    },
    {
      "cell_type": "code",
      "source": [
        "# 18. Filter data not in list\n",
        "airline_list = ['DL','US']\n",
        "\n",
        "df[~df['Airline'].isin(airline_list)]"
      ],
      "execution_count": null,
      "outputs": [],
      "metadata": {
        "datalore": {
          "type": "CODE",
          "hide_input_from_viewers": false,
          "hide_output_from_viewers": false,
          "node_id": "UiTHdJNqqD09vG1AAUdZQZ"
        },
        "id": "-LDV9cubqMTR"
      }
    },
    {
      "cell_type": "code",
      "source": [
        "# 19. Sort the data\n",
        "df.sort_values(by='Airline',ascending=False)"
      ],
      "execution_count": null,
      "outputs": [],
      "metadata": {
        "datalore": {
          "type": "CODE",
          "hide_input_from_viewers": false,
          "hide_output_from_viewers": false,
          "node_id": "c4DqlfM1ecZokv6cJJYIbt"
        },
        "id": "NynL6OsGqMTR"
      }
    },
    {
      "cell_type": "code",
      "source": [
        "# 20. Rename a column\n",
        "df.rename(columns={\"Airline\": \"Airline_Code\", \"AirportFrom\":\"Airport_From\"})"
      ],
      "execution_count": null,
      "outputs": [],
      "metadata": {
        "datalore": {
          "type": "CODE",
          "hide_input_from_viewers": false,
          "hide_output_from_viewers": false,
          "node_id": "uIxMa9HeBwyGKO9xHyc595"
        },
        "id": "AD9oaoHcqMTR"
      }
    },
    {
      "cell_type": "code",
      "source": [
        "# 21. Summarise using groupby\n",
        "df.groupby(['Airline','AirportFrom','AirportTo'], as_index=False)['id'].agg('count')"
      ],
      "execution_count": null,
      "outputs": [],
      "metadata": {
        "datalore": {
          "type": "CODE",
          "hide_input_from_viewers": false,
          "hide_output_from_viewers": false,
          "node_id": "6ZXdbAqaXRs76gggPgHdvp"
        },
        "id": "4zpwO8uWqMTR"
      }
    },
    {
      "cell_type": "code",
      "source": [
        "# 22. Summarise and sort\n",
        "df_summ = df.groupby(['Airline','AirportFrom','AirportTo'], as_index=False)['id'].agg('count')\n",
        "\n",
        "df_summ.sort_values(by='id', ascending = False)"
      ],
      "execution_count": null,
      "outputs": [],
      "metadata": {
        "datalore": {
          "type": "CODE",
          "hide_input_from_viewers": false,
          "hide_output_from_viewers": false,
          "node_id": "pZXzFITyF8arLg4MWZckO4"
        },
        "id": "Ey8u_7taqMTS"
      }
    },
    {
      "cell_type": "code",
      "source": [
        "# 23. Summarise for multiple values\n",
        "df.groupby(['Airline','AirportFrom','AirportTo'])['Time'].agg(['sum','count']).reset_index()"
      ],
      "execution_count": null,
      "outputs": [],
      "metadata": {
        "datalore": {
          "type": "CODE",
          "hide_input_from_viewers": false,
          "hide_output_from_viewers": false,
          "node_id": "YGqRLSjxgIsOtAdWF8Rs6E"
        },
        "id": "YNUGtWeUqMTS"
      }
    },
    {
      "cell_type": "code",
      "source": [
        "# 24. Summarise for multiple columns and values\n",
        "df.groupby(['Airline','AirportFrom','AirportTo']).aggregate({'id':'count','Time':'sum'}).reset_index()"
      ],
      "execution_count": null,
      "outputs": [],
      "metadata": {
        "datalore": {
          "type": "CODE",
          "hide_input_from_viewers": false,
          "hide_output_from_viewers": false,
          "node_id": "XJvdv4bQAn8Fx4HLjZGbVw"
        },
        "id": "URprDnCbqMTS"
      }
    },
    {
      "cell_type": "code",
      "source": [
        "# 25. Adding a new column\n",
        "df['Country'] = 'USA'\n",
        "\n",
        "df.head()"
      ],
      "execution_count": null,
      "outputs": [],
      "metadata": {
        "datalore": {
          "type": "CODE",
          "hide_input_from_viewers": false,
          "hide_output_from_viewers": false,
          "node_id": "JdEQ80UnYDFPOerXvWN2Pz"
        },
        "id": "KcHhlqFfqMTS"
      }
    },
    {
      "cell_type": "code",
      "source": [
        "# 26. Adding a column using existing columns\n",
        "df['CO_SFO'] = (df['Airline'] =='CO') & (df['AirportFrom'] == 'SFO')\n",
        "df.head()"
      ],
      "execution_count": null,
      "outputs": [],
      "metadata": {
        "datalore": {
          "type": "CODE",
          "hide_input_from_viewers": false,
          "hide_output_from_viewers": false,
          "node_id": "macqTMjoj4MO0RHPgM5SJ6"
        },
        "id": "A9sRkrnOqMTS"
      }
    },
    {
      "cell_type": "code",
      "source": [
        "# 27. Dropping a Column\n",
        "df.drop(['CO_SFO'], axis = 1)"
      ],
      "execution_count": null,
      "outputs": [],
      "metadata": {
        "datalore": {
          "type": "CODE",
          "hide_input_from_viewers": false,
          "hide_output_from_viewers": false,
          "node_id": "SOCQTqpKM3sMxUVUxbV6qI"
        },
        "id": "Cgehd9qUqMTT"
      }
    },
    {
      "cell_type": "code",
      "source": [
        "# 28. Summarise Using pivot_table\n",
        "df.pivot_table(index = ['Airline','AirportFrom','AirportTo'],\n",
        "               values = ['Time'], aggfunc=['sum','count']).reset_index(col_level=1)"
      ],
      "execution_count": null,
      "outputs": [],
      "metadata": {
        "datalore": {
          "type": "CODE",
          "hide_input_from_viewers": false,
          "hide_output_from_viewers": false,
          "node_id": "ZtyklKbrAFYoTBYC9Cv5om"
        },
        "id": "Y1tks_OzqMTT"
      }
    },
    {
      "cell_type": "code",
      "source": [
        "# 29. Pivot data using pivot_table when unique rows are not available for index columns\n",
        "\n",
        "df.pivot_table(index = 'Airline', columns='DayOfWeek', values='id',aggfunc='count', fill_value = 0).reset_index()"
      ],
      "execution_count": null,
      "outputs": [],
      "metadata": {
        "datalore": {
          "type": "CODE",
          "hide_input_from_viewers": false,
          "hide_output_from_viewers": false,
          "node_id": "QBaD56jO3WneVQda1X8rHL"
        },
        "id": "lwu-L2dOqMTT"
      }
    },
    {
      "cell_type": "code",
      "source": [
        "# 30. Summarise using groupby and pivot\n",
        "df1 = df.groupby(['Airline','DayOfWeek'], as_index=False)['id'].agg('count').reset_index()\n",
        "\n",
        "df1.pivot(index = ['Airline'], columns = 'DayOfWeek', values = 'id').reset_index()\n"
      ],
      "execution_count": null,
      "outputs": [],
      "metadata": {
        "datalore": {
          "type": "CODE",
          "hide_input_from_viewers": false,
          "hide_output_from_viewers": false,
          "node_id": "9rcliEmW8BTXZ5duIvbW9n"
        },
        "id": "OCfhs-sEqMTT"
      }
    },
    {
      "cell_type": "code",
      "source": [
        "# 31. Displaying summary information about the DataFrame\n",
        "df.info()"
      ],
      "metadata": {
        "id": "JY-zCQjwrJxY"
      },
      "execution_count": null,
      "outputs": []
    },
    {
      "cell_type": "code",
      "source": [
        "# 32. Getting the number of unique values in each column\n",
        "df.nunique()"
      ],
      "metadata": {
        "id": "wM0p-ifGrXAf"
      },
      "execution_count": null,
      "outputs": []
    },
    {
      "cell_type": "code",
      "source": [
        "# 33. Creating a copy of the DataFrame\n",
        "df_copy = df.copy()"
      ],
      "metadata": {
        "id": "AL-Zx6VgrYT7"
      },
      "execution_count": null,
      "outputs": []
    },
    {
      "cell_type": "code",
      "source": [
        "# 34. Dropping duplicate rows from the DataFrame\n",
        "df_no_duplicates = df.drop_duplicates()"
      ],
      "metadata": {
        "id": "3sL5U7aBraZ9"
      },
      "execution_count": null,
      "outputs": []
    },
    {
      "cell_type": "code",
      "source": [
        "# 35. Converting a categorical variable into dummy/indicator variables\n",
        "df_dummies = pd.get_dummies(df['Airline'])"
      ],
      "metadata": {
        "id": "xjKg5NP_rb9g"
      },
      "execution_count": null,
      "outputs": []
    },
    {
      "cell_type": "code",
      "source": [
        "# 36. Converting the 'Flight' column to string data type\n",
        "df['Flight'] = df['Flight'].astype(str)"
      ],
      "metadata": {
        "id": "NZRmE4J8rdYC"
      },
      "execution_count": null,
      "outputs": []
    },
    {
      "cell_type": "code",
      "source": [
        "# 37. Finding the number of non-NA values in the 'AirportFrom' column\n",
        "df['AirportFrom'].count()"
      ],
      "metadata": {
        "id": "Y5CfCD_8uKhP"
      },
      "execution_count": null,
      "outputs": []
    },
    {
      "cell_type": "code",
      "source": [
        "# 38. Replacing values in 'Airline' column, e.g., replacing 'US' with 'United States'\n",
        "df['Airline'] = df['Airline'].replace('US', 'United States')"
      ],
      "metadata": {
        "id": "2yr4FF8Xujrh"
      },
      "execution_count": null,
      "outputs": []
    },
    {
      "cell_type": "code",
      "source": [
        "# 39. Finding the maximum value in the 'Time' column\n",
        "df['Time'].max()"
      ],
      "metadata": {
        "id": "-QPlx5lRuoJh"
      },
      "execution_count": null,
      "outputs": []
    },
    {
      "cell_type": "code",
      "source": [
        "# 40. Calculating the sum of all values in the 'Time' column\n",
        "df['Time'].sum()"
      ],
      "metadata": {
        "id": "dz9GgJeGusnQ"
      },
      "execution_count": null,
      "outputs": []
    },
    {
      "cell_type": "code",
      "source": [
        "# 41. Finding the average (mean) of the 'Time' column\n",
        "df['Time'].mean()"
      ],
      "metadata": {
        "id": "evnosB9FuxLa"
      },
      "execution_count": null,
      "outputs": []
    },
    {
      "cell_type": "code",
      "source": [
        "# 42. Applying a custom function to the 'Time' column to convert minutes to hours\n",
        "df['Time_in_hours'] = df['Time'].apply(lambda x: x / 60)\n",
        "df[['Time', 'Time_in_hours']]"
      ],
      "metadata": {
        "id": "8tt4euZquLh7"
      },
      "execution_count": null,
      "outputs": []
    },
    {
      "cell_type": "code",
      "source": [
        "# 43. Finding rows where 'AirportFrom' is 'PHX' and setting the 'Status' to 'Departed'\n",
        "df.loc[df['AirportFrom'] == 'PHX', 'Status'] = 'Departed'"
      ],
      "metadata": {
        "id": "qOrNFLV1uDqP"
      },
      "execution_count": null,
      "outputs": []
    },
    {
      "cell_type": "code",
      "source": [
        "# 44. Calculating the median of the 'Time' column\n",
        "df['Time'].median()"
      ],
      "metadata": {
        "id": "eck7Eiq2u1y-"
      },
      "execution_count": null,
      "outputs": []
    },
    {
      "cell_type": "code",
      "source": [
        "# 45. Counting the occurrences of each 'AirportTo' destination\n",
        "df['AirportTo'].value_counts()"
      ],
      "metadata": {
        "id": "tkSYk1C8vQSJ"
      },
      "execution_count": null,
      "outputs": []
    },
    {
      "cell_type": "code",
      "source": [
        "# 46. Slicing the DataFrame to include only rows from index 10 to index 20\n",
        "df_sliced = df[10:21]"
      ],
      "metadata": {
        "id": "KtYy-CgpvSEZ"
      },
      "execution_count": null,
      "outputs": []
    },
    {
      "cell_type": "code",
      "source": [
        "# 47. Finding the row with the maximum value in the 'Time' column\n",
        "max_time_row = df[df['Time'] == df['Time'].max()]"
      ],
      "metadata": {
        "id": "lVbOLE6cvYMq"
      },
      "execution_count": null,
      "outputs": []
    },
    {
      "cell_type": "code",
      "source": [
        "# 48. Filtering rows where 'AirportFrom' is 'PHX' and 'DayOfWeek' is 1\n",
        "phx_flights_on_monday = df[(df['AirportFrom'] == 'PHX') & (df['DayOfWeek'] == 1)]"
      ],
      "metadata": {
        "id": "TU6nHHaUvgz_"
      },
      "execution_count": null,
      "outputs": []
    },
    {
      "cell_type": "code",
      "source": [
        "# 49. Creating a pivot table with 'AirportFrom' as index and counts of 'id' as values\n",
        "airport_from_pivot = df.pivot_table(index='AirportFrom', values='id', aggfunc='count')"
      ],
      "metadata": {
        "id": "YpbIO6w6vlmz"
      },
      "execution_count": null,
      "outputs": []
    },
    {
      "cell_type": "code",
      "source": [
        "# 50. Mapping the 'DayOfWeek' to its corresponding string name\n",
        "day_mapping = {1: 'Monday', 2: 'Tuesday', 3: 'Wednesday', 4: 'Thursday', 5: 'Friday', 6: 'Saturday', 7: 'Sunday'}\n",
        "df['DayOfWeekName'] = df['DayOfWeek'].map(day_mapping)\n",
        "df[['DayOfWeek', 'DayOfWeekName']]"
      ],
      "metadata": {
        "id": "mRg1_MBWvprY"
      },
      "execution_count": null,
      "outputs": []
    }
  ],
  "metadata": {
    "kernelspec": {
      "display_name": "Python",
      "language": "python",
      "name": "python"
    },
    "datalore": {
      "version": 1,
      "computation_mode": "JUPYTER",
      "package_manager": "pip",
      "base_environment": "default",
      "packages": []
    },
    "colab": {
      "provenance": [],
      "include_colab_link": true
    }
  },
  "nbformat": 4,
  "nbformat_minor": 0
}